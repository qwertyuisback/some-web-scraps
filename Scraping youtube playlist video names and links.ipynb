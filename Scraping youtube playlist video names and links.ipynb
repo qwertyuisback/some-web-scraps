{
 "cells": [
  {
   "cell_type": "code",
   "execution_count": 29,
   "metadata": {},
   "outputs": [
    {
     "data": {
      "text/plain": [
       "<selenium.webdriver.remote.webelement.WebElement (session=\"0d17ae808be08f1d5de111806e894f02\", element=\"f.2701249756E01F76DF9B3D83CD0F2151.d.9956D280600C1FBCE32BB63A3BCAA3B8.e.23\")>"
      ]
     },
     "execution_count": 29,
     "metadata": {},
     "output_type": "execute_result"
    }
   ],
   "source": [
    "from selenium import webdriver\n",
    "from selenium.webdriver.common.keys import Keys\n",
    "import time\n",
    "\n",
    "\n",
    "# start the driver and browser\n",
    "driver = webdriver.Chrome() \n",
    "html=\"https://www.youtube.com/playlist?list=PLh5DDeppeM8u9jv5_bU89zRzxP_lY5dUm\" \n",
    "driver.get(html) #open the link in browser\n",
    "\n",
    "#imports\n",
    "from selenium.webdriver.common.by import By\n",
    "from selenium.webdriver.support.ui import WebDriverWait\n",
    "from selenium.webdriver.support import expected_conditions as EC\n",
    "\n",
    "# choose the element class what you want to get\n",
    "element_present = EC.presence_of_element_located((By.CLASS_NAME, 'yt-simple-endpoint.style-scope.ytd-playlist-video-renderer'))\n",
    "# a timeout in case of anything (loads, etc.)\n",
    "WebDriverWait(driver, timeout=10).until(element_present)\n",
    "\n",
    "# # video sayısına göre sürükleme -henüz çözülemedi-\n",
    "# # # for_no_of_videos_in_yt_playlists = driver.find_elements((By.NAME, 'span'))\n",
    "# element_present2 = EC.presence_of_element_located((By.CSS_SELECTOR, 'span.style-scope yt-formatted-string'))\n",
    "# # # print(for_no_of_videos_in_yt_playlists.text)\n",
    "# print(\"element_present2:\",element_present2)"
   ]
  },
  {
   "cell_type": "code",
   "execution_count": 30,
   "metadata": {},
   "outputs": [
    {
     "name": "stdout",
     "output_type": "stream",
     "text": [
      "Scrolling completed. Please don't forget to control the page after this process.\n"
     ]
    }
   ],
   "source": [
    "#Scrolling the page until the end:\n",
    "body=driver.find_element(By.TAG_NAME ,\"body\")\n",
    "for _ in range(5):  \n",
    "    body.send_keys(Keys.PAGE_DOWN)\n",
    "    time.sleep(0.5)  # Waiting time between scrollling. without this break (kaydırma) doesn't work properly\n",
    "print(\"Scrolling completed. Please don't forget to control the page after this process.\")"
   ]
  },
  {
   "cell_type": "code",
   "execution_count": 36,
   "metadata": {},
   "outputs": [
    {
     "name": "stdout",
     "output_type": "stream",
     "text": [
      "playlist_name: TV Technical Difficulties \n",
      "playlist_name_element: <selenium.webdriver.remote.webelement.WebElement (session=\"0d17ae808be08f1d5de111806e894f02\", element=\"f.2701249756E01F76DF9B3D83CD0F2151.d.9956D280600C1FBCE32BB63A3BCAA3B8.e.1235\")>\n"
     ]
    }
   ],
   "source": [
    "#finding the playlist name\n",
    "# playlist_element=\"yt-core-attributed-string.yt-core-attributed-string--white-space-pre-wrap\"\n",
    "# playlist_element=\"yt-formatted-string#text.style-scope.yt-dynamic-sizing-formatted-string.yt-sans-28\"\n",
    "# playlist_element=\"dynamic-text-container.style-scope.yt-dynamic-sizing-formatted-string\"\n",
    "# playlist_element=\"span.yt-core-attributed-string.yt-core-attributed-string--white-space-pre-wrap\"\n",
    "playlist_element='//span[@class=\"yt-core-attributed-string yt-core-attributed-string--white-space-pre-wrap\"]'\n",
    "playlist_name_element = driver.find_element(By.XPATH,playlist_element)\n",
    "playlist_name=playlist_name_element.text\n",
    "\n",
    "print(\"playlist_name:\",playlist_name,\"\\nplaylist_name_element:\",playlist_name_element)\n"
   ]
  },
  {
   "cell_type": "code",
   "execution_count": 39,
   "metadata": {},
   "outputs": [
    {
     "name": "stdout",
     "output_type": "stream",
     "text": [
      "titles: [<selenium.webdriver.remote.webelement.WebElement (session=\"0d17ae808be08f1d5de111806e894f02\", element=\"f.2701249756E01F76DF9B3D83CD0F2151.d.9956D280600C1FBCE32BB63A3BCAA3B8.e.23\")>, <selenium.webdriver.remote.webelement.WebElement (session=\"0d17ae808be08f1d5de111806e894f02\", element=\"f.2701249756E01F76DF9B3D83CD0F2151.d.9956D280600C1FBCE32BB63A3BCAA3B8.e.1807\")>, <selenium.webdriver.remote.webelement.WebElement (session=\"0d17ae808be08f1d5de111806e894f02\", element=\"f.2701249756E01F76DF9B3D83CD0F2151.d.9956D280600C1FBCE32BB63A3BCAA3B8.e.1911\")>, <selenium.webdriver.remote.webelement.WebElement (session=\"0d17ae808be08f1d5de111806e894f02\", element=\"f.2701249756E01F76DF9B3D83CD0F2151.d.9956D280600C1FBCE32BB63A3BCAA3B8.e.14\")>, <selenium.webdriver.remote.webelement.WebElement (session=\"0d17ae808be08f1d5de111806e894f02\", element=\"f.2701249756E01F76DF9B3D83CD0F2151.d.9956D280600C1FBCE32BB63A3BCAA3B8.e.2118\")>, <selenium.webdriver.remote.webelement.WebElement (session=\"0d17ae808be08f1d5de111806e894f02\", element=\"f.2701249756E01F76DF9B3D83CD0F2151.d.9956D280600C1FBCE32BB63A3BCAA3B8.e.157\")>, <selenium.webdriver.remote.webelement.WebElement (session=\"0d17ae808be08f1d5de111806e894f02\", element=\"f.2701249756E01F76DF9B3D83CD0F2151.d.9956D280600C1FBCE32BB63A3BCAA3B8.e.2329\")>, <selenium.webdriver.remote.webelement.WebElement (session=\"0d17ae808be08f1d5de111806e894f02\", element=\"f.2701249756E01F76DF9B3D83CD0F2151.d.9956D280600C1FBCE32BB63A3BCAA3B8.e.2435\")>, <selenium.webdriver.remote.webelement.WebElement (session=\"0d17ae808be08f1d5de111806e894f02\", element=\"f.2701249756E01F76DF9B3D83CD0F2151.d.9956D280600C1FBCE32BB63A3BCAA3B8.e.2541\")>, <selenium.webdriver.remote.webelement.WebElement (session=\"0d17ae808be08f1d5de111806e894f02\", element=\"f.2701249756E01F76DF9B3D83CD0F2151.d.9956D280600C1FBCE32BB63A3BCAA3B8.e.2647\")>, <selenium.webdriver.remote.webelement.WebElement (session=\"0d17ae808be08f1d5de111806e894f02\", element=\"f.2701249756E01F76DF9B3D83CD0F2151.d.9956D280600C1FBCE32BB63A3BCAA3B8.e.2753\")>, <selenium.webdriver.remote.webelement.WebElement (session=\"0d17ae808be08f1d5de111806e894f02\", element=\"f.2701249756E01F76DF9B3D83CD0F2151.d.9956D280600C1FBCE32BB63A3BCAA3B8.e.2859\")>, <selenium.webdriver.remote.webelement.WebElement (session=\"0d17ae808be08f1d5de111806e894f02\", element=\"f.2701249756E01F76DF9B3D83CD0F2151.d.9956D280600C1FBCE32BB63A3BCAA3B8.e.30\")>, <selenium.webdriver.remote.webelement.WebElement (session=\"0d17ae808be08f1d5de111806e894f02\", element=\"f.2701249756E01F76DF9B3D83CD0F2151.d.9956D280600C1FBCE32BB63A3BCAA3B8.e.3076\")>, <selenium.webdriver.remote.webelement.WebElement (session=\"0d17ae808be08f1d5de111806e894f02\", element=\"f.2701249756E01F76DF9B3D83CD0F2151.d.9956D280600C1FBCE32BB63A3BCAA3B8.e.3181\")>, <selenium.webdriver.remote.webelement.WebElement (session=\"0d17ae808be08f1d5de111806e894f02\", element=\"f.2701249756E01F76DF9B3D83CD0F2151.d.9956D280600C1FBCE32BB63A3BCAA3B8.e.3287\")>, <selenium.webdriver.remote.webelement.WebElement (session=\"0d17ae808be08f1d5de111806e894f02\", element=\"f.2701249756E01F76DF9B3D83CD0F2151.d.9956D280600C1FBCE32BB63A3BCAA3B8.e.3393\")>, <selenium.webdriver.remote.webelement.WebElement (session=\"0d17ae808be08f1d5de111806e894f02\", element=\"f.2701249756E01F76DF9B3D83CD0F2151.d.9956D280600C1FBCE32BB63A3BCAA3B8.e.3505\")>, <selenium.webdriver.remote.webelement.WebElement (session=\"0d17ae808be08f1d5de111806e894f02\", element=\"f.2701249756E01F76DF9B3D83CD0F2151.d.9956D280600C1FBCE32BB63A3BCAA3B8.e.3611\")>, <selenium.webdriver.remote.webelement.WebElement (session=\"0d17ae808be08f1d5de111806e894f02\", element=\"f.2701249756E01F76DF9B3D83CD0F2151.d.9956D280600C1FBCE32BB63A3BCAA3B8.e.3723\")>, <selenium.webdriver.remote.webelement.WebElement (session=\"0d17ae808be08f1d5de111806e894f02\", element=\"f.2701249756E01F76DF9B3D83CD0F2151.d.9956D280600C1FBCE32BB63A3BCAA3B8.e.3829\")>, <selenium.webdriver.remote.webelement.WebElement (session=\"0d17ae808be08f1d5de111806e894f02\", element=\"f.2701249756E01F76DF9B3D83CD0F2151.d.9956D280600C1FBCE32BB63A3BCAA3B8.e.3935\")>, <selenium.webdriver.remote.webelement.WebElement (session=\"0d17ae808be08f1d5de111806e894f02\", element=\"f.2701249756E01F76DF9B3D83CD0F2151.d.9956D280600C1FBCE32BB63A3BCAA3B8.e.4041\")>, <selenium.webdriver.remote.webelement.WebElement (session=\"0d17ae808be08f1d5de111806e894f02\", element=\"f.2701249756E01F76DF9B3D83CD0F2151.d.9956D280600C1FBCE32BB63A3BCAA3B8.e.4146\")>, <selenium.webdriver.remote.webelement.WebElement (session=\"0d17ae808be08f1d5de111806e894f02\", element=\"f.2701249756E01F76DF9B3D83CD0F2151.d.9956D280600C1FBCE32BB63A3BCAA3B8.e.4252\")>, <selenium.webdriver.remote.webelement.WebElement (session=\"0d17ae808be08f1d5de111806e894f02\", element=\"f.2701249756E01F76DF9B3D83CD0F2151.d.9956D280600C1FBCE32BB63A3BCAA3B8.e.4358\")>, <selenium.webdriver.remote.webelement.WebElement (session=\"0d17ae808be08f1d5de111806e894f02\", element=\"f.2701249756E01F76DF9B3D83CD0F2151.d.9956D280600C1FBCE32BB63A3BCAA3B8.e.4463\")>, <selenium.webdriver.remote.webelement.WebElement (session=\"0d17ae808be08f1d5de111806e894f02\", element=\"f.2701249756E01F76DF9B3D83CD0F2151.d.9956D280600C1FBCE32BB63A3BCAA3B8.e.4569\")>, <selenium.webdriver.remote.webelement.WebElement (session=\"0d17ae808be08f1d5de111806e894f02\", element=\"f.2701249756E01F76DF9B3D83CD0F2151.d.9956D280600C1FBCE32BB63A3BCAA3B8.e.4675\")>, <selenium.webdriver.remote.webelement.WebElement (session=\"0d17ae808be08f1d5de111806e894f02\", element=\"f.2701249756E01F76DF9B3D83CD0F2151.d.9956D280600C1FBCE32BB63A3BCAA3B8.e.4780\")>, <selenium.webdriver.remote.webelement.WebElement (session=\"0d17ae808be08f1d5de111806e894f02\", element=\"f.2701249756E01F76DF9B3D83CD0F2151.d.9956D280600C1FBCE32BB63A3BCAA3B8.e.4886\")>, <selenium.webdriver.remote.webelement.WebElement (session=\"0d17ae808be08f1d5de111806e894f02\", element=\"f.2701249756E01F76DF9B3D83CD0F2151.d.9956D280600C1FBCE32BB63A3BCAA3B8.e.4992\")>, <selenium.webdriver.remote.webelement.WebElement (session=\"0d17ae808be08f1d5de111806e894f02\", element=\"f.2701249756E01F76DF9B3D83CD0F2151.d.9956D280600C1FBCE32BB63A3BCAA3B8.e.5098\")>, <selenium.webdriver.remote.webelement.WebElement (session=\"0d17ae808be08f1d5de111806e894f02\", element=\"f.2701249756E01F76DF9B3D83CD0F2151.d.9956D280600C1FBCE32BB63A3BCAA3B8.e.5203\")>, <selenium.webdriver.remote.webelement.WebElement (session=\"0d17ae808be08f1d5de111806e894f02\", element=\"f.2701249756E01F76DF9B3D83CD0F2151.d.9956D280600C1FBCE32BB63A3BCAA3B8.e.5309\")>, <selenium.webdriver.remote.webelement.WebElement (session=\"0d17ae808be08f1d5de111806e894f02\", element=\"f.2701249756E01F76DF9B3D83CD0F2151.d.9956D280600C1FBCE32BB63A3BCAA3B8.e.5415\")>, <selenium.webdriver.remote.webelement.WebElement (session=\"0d17ae808be08f1d5de111806e894f02\", element=\"f.2701249756E01F76DF9B3D83CD0F2151.d.9956D280600C1FBCE32BB63A3BCAA3B8.e.5520\")>, <selenium.webdriver.remote.webelement.WebElement (session=\"0d17ae808be08f1d5de111806e894f02\", element=\"f.2701249756E01F76DF9B3D83CD0F2151.d.9956D280600C1FBCE32BB63A3BCAA3B8.e.5626\")>, <selenium.webdriver.remote.webelement.WebElement (session=\"0d17ae808be08f1d5de111806e894f02\", element=\"f.2701249756E01F76DF9B3D83CD0F2151.d.9956D280600C1FBCE32BB63A3BCAA3B8.e.5732\")>, <selenium.webdriver.remote.webelement.WebElement (session=\"0d17ae808be08f1d5de111806e894f02\", element=\"f.2701249756E01F76DF9B3D83CD0F2151.d.9956D280600C1FBCE32BB63A3BCAA3B8.e.11\")>, <selenium.webdriver.remote.webelement.WebElement (session=\"0d17ae808be08f1d5de111806e894f02\", element=\"f.2701249756E01F76DF9B3D83CD0F2151.d.9956D280600C1FBCE32BB63A3BCAA3B8.e.5943\")>, <selenium.webdriver.remote.webelement.WebElement (session=\"0d17ae808be08f1d5de111806e894f02\", element=\"f.2701249756E01F76DF9B3D83CD0F2151.d.9956D280600C1FBCE32BB63A3BCAA3B8.e.6055\")>, <selenium.webdriver.remote.webelement.WebElement (session=\"0d17ae808be08f1d5de111806e894f02\", element=\"f.2701249756E01F76DF9B3D83CD0F2151.d.9956D280600C1FBCE32BB63A3BCAA3B8.e.6161\")>, <selenium.webdriver.remote.webelement.WebElement (session=\"0d17ae808be08f1d5de111806e894f02\", element=\"f.2701249756E01F76DF9B3D83CD0F2151.d.9956D280600C1FBCE32BB63A3BCAA3B8.e.6267\")>, <selenium.webdriver.remote.webelement.WebElement (session=\"0d17ae808be08f1d5de111806e894f02\", element=\"f.2701249756E01F76DF9B3D83CD0F2151.d.9956D280600C1FBCE32BB63A3BCAA3B8.e.6373\")>, <selenium.webdriver.remote.webelement.WebElement (session=\"0d17ae808be08f1d5de111806e894f02\", element=\"f.2701249756E01F76DF9B3D83CD0F2151.d.9956D280600C1FBCE32BB63A3BCAA3B8.e.6479\")>, <selenium.webdriver.remote.webelement.WebElement (session=\"0d17ae808be08f1d5de111806e894f02\", element=\"f.2701249756E01F76DF9B3D83CD0F2151.d.9956D280600C1FBCE32BB63A3BCAA3B8.e.6585\")>, <selenium.webdriver.remote.webelement.WebElement (session=\"0d17ae808be08f1d5de111806e894f02\", element=\"f.2701249756E01F76DF9B3D83CD0F2151.d.9956D280600C1FBCE32BB63A3BCAA3B8.e.6691\")>, <selenium.webdriver.remote.webelement.WebElement (session=\"0d17ae808be08f1d5de111806e894f02\", element=\"f.2701249756E01F76DF9B3D83CD0F2151.d.9956D280600C1FBCE32BB63A3BCAA3B8.e.6803\")>, <selenium.webdriver.remote.webelement.WebElement (session=\"0d17ae808be08f1d5de111806e894f02\", element=\"f.2701249756E01F76DF9B3D83CD0F2151.d.9956D280600C1FBCE32BB63A3BCAA3B8.e.6909\")>, <selenium.webdriver.remote.webelement.WebElement (session=\"0d17ae808be08f1d5de111806e894f02\", element=\"f.2701249756E01F76DF9B3D83CD0F2151.d.9956D280600C1FBCE32BB63A3BCAA3B8.e.7015\")>, <selenium.webdriver.remote.webelement.WebElement (session=\"0d17ae808be08f1d5de111806e894f02\", element=\"f.2701249756E01F76DF9B3D83CD0F2151.d.9956D280600C1FBCE32BB63A3BCAA3B8.e.7121\")>, <selenium.webdriver.remote.webelement.WebElement (session=\"0d17ae808be08f1d5de111806e894f02\", element=\"f.2701249756E01F76DF9B3D83CD0F2151.d.9956D280600C1FBCE32BB63A3BCAA3B8.e.7233\")>, <selenium.webdriver.remote.webelement.WebElement (session=\"0d17ae808be08f1d5de111806e894f02\", element=\"f.2701249756E01F76DF9B3D83CD0F2151.d.9956D280600C1FBCE32BB63A3BCAA3B8.e.7339\")>, <selenium.webdriver.remote.webelement.WebElement (session=\"0d17ae808be08f1d5de111806e894f02\", element=\"f.2701249756E01F76DF9B3D83CD0F2151.d.9956D280600C1FBCE32BB63A3BCAA3B8.e.7445\")>, <selenium.webdriver.remote.webelement.WebElement (session=\"0d17ae808be08f1d5de111806e894f02\", element=\"f.2701249756E01F76DF9B3D83CD0F2151.d.9956D280600C1FBCE32BB63A3BCAA3B8.e.7549\")>, <selenium.webdriver.remote.webelement.WebElement (session=\"0d17ae808be08f1d5de111806e894f02\", element=\"f.2701249756E01F76DF9B3D83CD0F2151.d.9956D280600C1FBCE32BB63A3BCAA3B8.e.7657\")>, <selenium.webdriver.remote.webelement.WebElement (session=\"0d17ae808be08f1d5de111806e894f02\", element=\"f.2701249756E01F76DF9B3D83CD0F2151.d.9956D280600C1FBCE32BB63A3BCAA3B8.e.7759\")>, <selenium.webdriver.remote.webelement.WebElement (session=\"0d17ae808be08f1d5de111806e894f02\", element=\"f.2701249756E01F76DF9B3D83CD0F2151.d.9956D280600C1FBCE32BB63A3BCAA3B8.e.7862\")>, <selenium.webdriver.remote.webelement.WebElement (session=\"0d17ae808be08f1d5de111806e894f02\", element=\"f.2701249756E01F76DF9B3D83CD0F2151.d.9956D280600C1FBCE32BB63A3BCAA3B8.e.42\")>, <selenium.webdriver.remote.webelement.WebElement (session=\"0d17ae808be08f1d5de111806e894f02\", element=\"f.2701249756E01F76DF9B3D83CD0F2151.d.9956D280600C1FBCE32BB63A3BCAA3B8.e.40\")>, <selenium.webdriver.remote.webelement.WebElement (session=\"0d17ae808be08f1d5de111806e894f02\", element=\"f.2701249756E01F76DF9B3D83CD0F2151.d.9956D280600C1FBCE32BB63A3BCAA3B8.e.150\")>, <selenium.webdriver.remote.webelement.WebElement (session=\"0d17ae808be08f1d5de111806e894f02\", element=\"f.2701249756E01F76DF9B3D83CD0F2151.d.9956D280600C1FBCE32BB63A3BCAA3B8.e.8264\")>, <selenium.webdriver.remote.webelement.WebElement (session=\"0d17ae808be08f1d5de111806e894f02\", element=\"f.2701249756E01F76DF9B3D83CD0F2151.d.9956D280600C1FBCE32BB63A3BCAA3B8.e.8365\")>, <selenium.webdriver.remote.webelement.WebElement (session=\"0d17ae808be08f1d5de111806e894f02\", element=\"f.2701249756E01F76DF9B3D83CD0F2151.d.9956D280600C1FBCE32BB63A3BCAA3B8.e.8464\")>, <selenium.webdriver.remote.webelement.WebElement (session=\"0d17ae808be08f1d5de111806e894f02\", element=\"f.2701249756E01F76DF9B3D83CD0F2151.d.9956D280600C1FBCE32BB63A3BCAA3B8.e.8564\")>, <selenium.webdriver.remote.webelement.WebElement (session=\"0d17ae808be08f1d5de111806e894f02\", element=\"f.2701249756E01F76DF9B3D83CD0F2151.d.9956D280600C1FBCE32BB63A3BCAA3B8.e.8676\")>, <selenium.webdriver.remote.webelement.WebElement (session=\"0d17ae808be08f1d5de111806e894f02\", element=\"f.2701249756E01F76DF9B3D83CD0F2151.d.9956D280600C1FBCE32BB63A3BCAA3B8.e.8788\")>, <selenium.webdriver.remote.webelement.WebElement (session=\"0d17ae808be08f1d5de111806e894f02\", element=\"f.2701249756E01F76DF9B3D83CD0F2151.d.9956D280600C1FBCE32BB63A3BCAA3B8.e.8900\")>, <selenium.webdriver.remote.webelement.WebElement (session=\"0d17ae808be08f1d5de111806e894f02\", element=\"f.2701249756E01F76DF9B3D83CD0F2151.d.9956D280600C1FBCE32BB63A3BCAA3B8.e.9012\")>, <selenium.webdriver.remote.webelement.WebElement (session=\"0d17ae808be08f1d5de111806e894f02\", element=\"f.2701249756E01F76DF9B3D83CD0F2151.d.9956D280600C1FBCE32BB63A3BCAA3B8.e.9118\")>, <selenium.webdriver.remote.webelement.WebElement (session=\"0d17ae808be08f1d5de111806e894f02\", element=\"f.2701249756E01F76DF9B3D83CD0F2151.d.9956D280600C1FBCE32BB63A3BCAA3B8.e.9224\")>, <selenium.webdriver.remote.webelement.WebElement (session=\"0d17ae808be08f1d5de111806e894f02\", element=\"f.2701249756E01F76DF9B3D83CD0F2151.d.9956D280600C1FBCE32BB63A3BCAA3B8.e.36\")>, <selenium.webdriver.remote.webelement.WebElement (session=\"0d17ae808be08f1d5de111806e894f02\", element=\"f.2701249756E01F76DF9B3D83CD0F2151.d.9956D280600C1FBCE32BB63A3BCAA3B8.e.9435\")>, <selenium.webdriver.remote.webelement.WebElement (session=\"0d17ae808be08f1d5de111806e894f02\", element=\"f.2701249756E01F76DF9B3D83CD0F2151.d.9956D280600C1FBCE32BB63A3BCAA3B8.e.9540\")>]\n"
     ]
    }
   ],
   "source": [
    "# finding elements:\n",
    "# titles = driver.find_elements(By.CLASS_NAME, \"a#video-title.yt-simple-endpoint.style-scope.ytd-playlist-video-renderer\")#not found\n",
    "titles = driver.find_elements(By.CLASS_NAME, \"yt-simple-endpoint.style-scope.ytd-playlist-video-renderer\") #this works!\n",
    "# titles = driver.find_elements(By.CLASS_NAME, \"style-scope.ytd-playlist-video-renderer\")\n",
    "print(\"titles:\",titles) #this prints the elements itself as a code. but we want to get the text/link etc. itself.\n",
    "if titles == []:\n",
    "    print(\"not found\")\n",
    "    # driver.quit()\n",
    "    # SystemExit"
   ]
  },
  {
   "cell_type": "code",
   "execution_count": 40,
   "metadata": {},
   "outputs": [
    {
     "name": "stdout",
     "output_type": "stream",
     "text": [
      "texts per text:\n",
      "\n",
      "\n",
      "Technical difficulties\n",
      "https://www.youtube.com/watch?v=WXAeokcRsgM&list=PLh5DDeppeM8u9jv5_bU89zRzxP_lY5dUm&index=1&pp=iAQB\n",
      "NBC Florence Nightingale bumper & technical problems 1985\n",
      "https://www.youtube.com/watch?v=IUXzYJFx-jo&list=PLh5DDeppeM8u9jv5_bU89zRzxP_lY5dUm&index=2&pp=iAQB\n",
      "NBC Technical Difficulties at the Orange Bowl January 1992\n",
      "https://www.youtube.com/watch?v=SHUk7G3hx6M&list=PLh5DDeppeM8u9jv5_bU89zRzxP_lY5dUm&index=3&pp=iAQB\n",
      "NBC Technical Difficulties\n",
      "https://www.youtube.com/watch?v=d-Dw8oYdKg4&list=PLh5DDeppeM8u9jv5_bU89zRzxP_lY5dUm&index=4&pp=iAQB\n",
      "NBC Technical Difficulties\n",
      "https://www.youtube.com/watch?v=R50fJuSDWWo&list=PLh5DDeppeM8u9jv5_bU89zRzxP_lY5dUm&index=5&pp=iAQB\n",
      "2 4 1986 NBC Technical Difficulties Slide and Blooper\n",
      "https://www.youtube.com/watch?v=uGqVhs-zGUE&list=PLh5DDeppeM8u9jv5_bU89zRzxP_lY5dUm&index=6&pp=iAQB\n",
      "Cartoon Network Technical Difficulties (1997)\n",
      "https://www.youtube.com/watch?v=fmkM5ZtwquE&list=PLh5DDeppeM8u9jv5_bU89zRzxP_lY5dUm&index=7&pp=iAQB\n",
      "Nick Replay, Technical Fault\n",
      "https://www.youtube.com/watch?v=KsPUZbP_qhQ&list=PLh5DDeppeM8u9jv5_bU89zRzxP_lY5dUm&index=8&pp=iAQB\n",
      "Nickelodeon UK Sound Technical Fault During iQuit iCarly Premiere\n",
      "https://www.youtube.com/watch?v=EdUQW9iOVA8&list=PLh5DDeppeM8u9jv5_bU89zRzxP_lY5dUm&index=9&pp=iAQB\n",
      "1970s WNBC New York technical error\n",
      "https://www.youtube.com/watch?v=UXS0hzFUBTw&list=PLh5DDeppeM8u9jv5_bU89zRzxP_lY5dUm&index=10&pp=iAQB\n",
      "WHEC TV technical difficulties 1978\n",
      "https://www.youtube.com/watch?v=YJIE1tpuVhM&list=PLh5DDeppeM8u9jv5_bU89zRzxP_lY5dUm&index=11&pp=iAQB\n",
      "1980 WOKR Rochester commercial break with technical difficulty\n",
      "https://www.youtube.com/watch?v=2YHbLBUQbn0&list=PLh5DDeppeM8u9jv5_bU89zRzxP_lY5dUm&index=12&pp=iAQB\n",
      "WBBM Channel 2 - \"Something For Joey\" (Technical Difficulties, 1978)\n",
      "https://www.youtube.com/watch?v=K89zC7CO8Fo&list=PLh5DDeppeM8u9jv5_bU89zRzxP_lY5dUm&index=13&pp=iAQB\n",
      "CBS News Technical Difficulties February 11, 2016\n",
      "https://www.youtube.com/watch?v=OQksMNgN7u0&list=PLh5DDeppeM8u9jv5_bU89zRzxP_lY5dUm&index=14&pp=iAQB\n",
      "The CW 10 Technical Difficulties\n",
      "https://www.youtube.com/watch?v=aOvSsK_0YMM&list=PLh5DDeppeM8u9jv5_bU89zRzxP_lY5dUm&index=15&pp=iAQB\n",
      "The CW 10 Technical Difficulties\n",
      "https://www.youtube.com/watch?v=BpXy_fRDkas&list=PLh5DDeppeM8u9jv5_bU89zRzxP_lY5dUm&index=16&pp=iAQB\n",
      "NBC Network - \"Elvis Has Left The Building\" - \"Technical Difficulties\" (Part 2, 1977)\n",
      "https://www.youtube.com/watch?v=zWlkBOgWE04&list=PLh5DDeppeM8u9jv5_bU89zRzxP_lY5dUm&index=17&pp=iAQB\n",
      "NBC 1992: \"Network Difficulties\"\n",
      "https://www.youtube.com/watch?v=JZuNm_QWOjk&list=PLh5DDeppeM8u9jv5_bU89zRzxP_lY5dUm&index=18&pp=iAQB\n",
      "WTVW Channel 7 - The ABC Friday Night Movie - \"Arachnoscrewup\" (Technical Difficulties Moment, 1981)\n",
      "https://www.youtube.com/watch?v=kyxrI3zXF9U&list=PLh5DDeppeM8u9jv5_bU89zRzxP_lY5dUm&index=19&pp=iAQB\n",
      "CBS Sunday Intershow 1979 - Technical Difficulties\n",
      "https://www.youtube.com/watch?v=d79TAfO_pn0&list=PLh5DDeppeM8u9jv5_bU89zRzxP_lY5dUm&index=20&pp=iAQB\n",
      "WTBS Technical Difficulties - 1986\n",
      "https://www.youtube.com/watch?v=Guyjesy011o&list=PLh5DDeppeM8u9jv5_bU89zRzxP_lY5dUm&index=21&pp=iAQB\n",
      "Boomerang Technical Difficulties 2011\n",
      "https://www.youtube.com/watch?v=2hod9hQKyUA&list=PLh5DDeppeM8u9jv5_bU89zRzxP_lY5dUm&index=22&pp=iAQB\n",
      "KCTS PBS Seattle experiencing technical difficulties Tue Aug 3 2010\n",
      "https://www.youtube.com/watch?v=I_Ukv7bhyI8&list=PLh5DDeppeM8u9jv5_bU89zRzxP_lY5dUm&index=23&pp=iAQB\n",
      "KING Please Stand by 1977\n",
      "https://www.youtube.com/watch?v=02sEHbgChuo&list=PLh5DDeppeM8u9jv5_bU89zRzxP_lY5dUm&index=24&pp=iAQB\n",
      "KREX - Endless Technical Issues 2\n",
      "https://www.youtube.com/watch?v=YO8inChwAgM&list=PLh5DDeppeM8u9jv5_bU89zRzxP_lY5dUm&index=25&pp=iAQB\n",
      "KTZO Technical Difficulties\n",
      "https://www.youtube.com/watch?v=Mo5uxhqtnnE&list=PLh5DDeppeM8u9jv5_bU89zRzxP_lY5dUm&index=26&pp=iAQB\n",
      "late show technical difficulty\n",
      "https://www.youtube.com/watch?v=IwvmfGNXrow&list=PLh5DDeppeM8u9jv5_bU89zRzxP_lY5dUm&index=27&pp=iAQB\n",
      "TNT/Cartoon Network (UK/Europe) - Handover, early 1998\n",
      "https://www.youtube.com/watch?v=iS1cvp-ScXQ&list=PLh5DDeppeM8u9jv5_bU89zRzxP_lY5dUm&index=28&pp=iAQB\n",
      "USA Network -Tech. Problems - '85\n",
      "https://www.youtube.com/watch?v=evYKcHrFGEc&list=PLh5DDeppeM8u9jv5_bU89zRzxP_lY5dUm&index=29&pp=iAQB\n",
      "WISH-TV Technical Difficulties Slide (2006)\n",
      "https://www.youtube.com/watch?v=PkhmKkXPBHs&list=PLh5DDeppeM8u9jv5_bU89zRzxP_lY5dUm&index=30&pp=iAQB\n",
      "Technical Difficulties - Telemundo Boston\n",
      "https://www.youtube.com/watch?v=M590SLVLpDc&list=PLh5DDeppeM8u9jv5_bU89zRzxP_lY5dUm&index=31&pp=iAQB\n",
      "Prairie Public Television Technical Difficulties (1987)\n",
      "https://www.youtube.com/watch?v=ltBp9ez7q3s&list=PLh5DDeppeM8u9jv5_bU89zRzxP_lY5dUm&index=32&pp=iAQB\n",
      "KOMO TV 4 Technical Difficulties 1979\n",
      "https://www.youtube.com/watch?v=K8qkHxkvwvU&list=PLh5DDeppeM8u9jv5_bU89zRzxP_lY5dUm&index=33&pp=iAQB\n",
      "wabc-tv happy thanksgiving card Technical Difficulties\n",
      "https://www.youtube.com/watch?v=qKnBrogg46s&list=PLh5DDeppeM8u9jv5_bU89zRzxP_lY5dUm&index=34&pp=iAQB\n",
      "WLS-TV Technical Difficulties\n",
      "https://www.youtube.com/watch?v=TZQAz_6qMsc&list=PLh5DDeppeM8u9jv5_bU89zRzxP_lY5dUm&index=35&pp=iAQB\n",
      "WXNE-TV 25 Boston - Technical Difficulties - 1986\n",
      "https://www.youtube.com/watch?v=gddAge8aD0A&list=PLh5DDeppeM8u9jv5_bU89zRzxP_lY5dUm&index=36&pp=iAQB\n",
      "WKBD-TV Channel 50 Promos and telops\n",
      "https://www.youtube.com/watch?v=aks17QcqVg4&list=PLh5DDeppeM8u9jv5_bU89zRzxP_lY5dUm&index=37&pp=iAQB\n",
      "Fox Sports Technical Difficulties World Series 2015\n",
      "https://www.youtube.com/watch?v=6QWvsF8tYNI&list=PLh5DDeppeM8u9jv5_bU89zRzxP_lY5dUm&index=38&pp=iAQB\n",
      "TV Land Technical Difficulties\n",
      "https://www.youtube.com/watch?v=hzJ-DMpCUts&list=PLh5DDeppeM8u9jv5_bU89zRzxP_lY5dUm&index=39&pp=iAQB\n",
      "KRDT-CD T.V. Channel 23-1 Technical Difficulties\n",
      "https://www.youtube.com/watch?v=42OWYtPWG1c&list=PLh5DDeppeM8u9jv5_bU89zRzxP_lY5dUm&index=40&pp=iAQB\n",
      "WFLD Channel 32 - Star Trek Triad - \"TREKnical Difficulties\" (1984) 🖖\n",
      "https://www.youtube.com/watch?v=W8nB4xu9xkY&list=PLh5DDeppeM8u9jv5_bU89zRzxP_lY5dUm&index=41&pp=iAQB\n",
      "KTCA Technical Difficulties card\n",
      "https://www.youtube.com/watch?v=cyE2EdT4Rhk&list=PLh5DDeppeM8u9jv5_bU89zRzxP_lY5dUm&index=42&pp=iAQB\n",
      "WEDU Technical Difficulties Slide (4/21/12)\n",
      "https://www.youtube.com/watch?v=F5v4JutP6tc&list=PLh5DDeppeM8u9jv5_bU89zRzxP_lY5dUm&index=43&pp=iAQB\n",
      "WGR Buffalo 2 Technical Difficulties 1982\n",
      "https://www.youtube.com/watch?v=l3a1RdgB9U0&list=PLh5DDeppeM8u9jv5_bU89zRzxP_lY5dUm&index=44&pp=iAQB\n",
      "WEDU-TV Technial Difficulties\n",
      "https://www.youtube.com/watch?v=1DYw-2o64bU&list=PLh5DDeppeM8u9jv5_bU89zRzxP_lY5dUm&index=45&pp=iAQB\n",
      "Pioneer Public TV Technical Difficulties - August 12th, 2010\n",
      "https://www.youtube.com/watch?v=2UcK8pKmofQ&list=PLh5DDeppeM8u9jv5_bU89zRzxP_lY5dUm&index=46&pp=iAQB\n",
      "WCSH 6 Alive! - Dead Air / Technical Difficulties circa 1991?\n",
      "https://www.youtube.com/watch?v=G57n5wxyeXA&list=PLh5DDeppeM8u9jv5_bU89zRzxP_lY5dUm&index=47&pp=iAQB\n",
      "WLS Channel 7 - It's Not Easy Bein' Me (Technical Difficulties Moment & Ending, 1982)\n",
      "https://www.youtube.com/watch?v=uODkJ4LZysQ&list=PLh5DDeppeM8u9jv5_bU89zRzxP_lY5dUm&index=48&pp=iAQB\n",
      "WNED 17 Technical Difficulties 1988\n",
      "https://www.youtube.com/watch?v=2vEbzaHWV2Q&list=PLh5DDeppeM8u9jv5_bU89zRzxP_lY5dUm&index=49&pp=iAQB\n",
      "WNEV-7 Boston - Technical Difficulties\n",
      "https://www.youtube.com/watch?v=-kfOkZo_Hdg&list=PLh5DDeppeM8u9jv5_bU89zRzxP_lY5dUm&index=50&pp=iAQB\n",
      "KCVU Fox 20 Technical Difficulties\n",
      "https://www.youtube.com/watch?v=5jpK2avQKds&list=PLh5DDeppeM8u9jv5_bU89zRzxP_lY5dUm&index=51&pp=iAQB\n",
      "WFLD Channel 32 - The Jack Benny Program - \"Technical Difficulties Moment\" (1975)\n",
      "https://www.youtube.com/watch?v=JqVjiQvUwqk&list=PLh5DDeppeM8u9jv5_bU89zRzxP_lY5dUm&index=52&pp=iAQB\n",
      "MTV's First Broadcast Technical Difficulties\n",
      "https://www.youtube.com/watch?v=hRSMmYbbr6A&list=PLh5DDeppeM8u9jv5_bU89zRzxP_lY5dUm&index=53&pp=iAQB\n",
      "WSVN Join in Progress\n",
      "https://www.youtube.com/watch?v=eepRXo_roXY&list=PLh5DDeppeM8u9jv5_bU89zRzxP_lY5dUm&index=54&pp=iAQB\n",
      "WBZ Technical Difficulties Graphic\n",
      "https://www.youtube.com/watch?v=d5eRwEuqRYU&list=PLh5DDeppeM8u9jv5_bU89zRzxP_lY5dUm&index=55&pp=iAQB\n",
      "WBBM Channel 2 - The Late Show - \"Technical Difficulties\" (Bumper, 1984)\n",
      "https://www.youtube.com/watch?v=_oXm41OLzuo&list=PLh5DDeppeM8u9jv5_bU89zRzxP_lY5dUm&index=56&pp=iAQB\n",
      "WFLD Channel 32 - The Monkees - \"Film Reel Flutter\" (Technical Difficulties, 1984)\n",
      "https://www.youtube.com/watch?v=RHl5mnBWv8w&list=PLh5DDeppeM8u9jv5_bU89zRzxP_lY5dUm&index=57&pp=iAQB\n",
      "WGN Channel 9 - The Hollywood Squares - \"Technical Difficulties Moment\" (Promo, 1980)\n",
      "https://www.youtube.com/watch?v=8QTvgSmn7Ak&list=PLh5DDeppeM8u9jv5_bU89zRzxP_lY5dUm&index=58&pp=iAQB\n",
      "WFLD Channel 32 - Comedy Classics - \"Not Half Bad\" (Technical Difficulties Moment, 1986)\n",
      "https://www.youtube.com/watch?v=0RcLTmXugV8&list=PLh5DDeppeM8u9jv5_bU89zRzxP_lY5dUm&index=59&pp=iAQB\n",
      "WTTW Channel 11 - Doctor Who - \"The Leisure Hive\" (Opening & Technical Difficulties Moment, 1983)\n",
      "https://www.youtube.com/watch?v=dEjNygxCJqE&list=PLh5DDeppeM8u9jv5_bU89zRzxP_lY5dUm&index=60&pp=iAQB\n",
      "WGN Channel 9 - WGN Thursday Night Movie - \"Capone\" (Technical Difficulty Moment, 1983)\n",
      "https://www.youtube.com/watch?v=EOl2EKOuSss&list=PLh5DDeppeM8u9jv5_bU89zRzxP_lY5dUm&index=61&pp=iAQB\n",
      "WFLD Channel 32 - Six O'Clock Movie - \"The FBI Story\" (Technical Difficulties, 1981)\n",
      "https://www.youtube.com/watch?v=PIzzOcxb4Bo&list=PLh5DDeppeM8u9jv5_bU89zRzxP_lY5dUm&index=62&pp=iAQB\n",
      "The 45th Annual Golden Globe Awards - “Satellite Trainwreck\" (Complete Broadcast, 1/23/1988) 📺\n",
      "https://www.youtube.com/watch?v=3ywooUVF9fM&list=PLh5DDeppeM8u9jv5_bU89zRzxP_lY5dUm&index=63&pp=iAQB\n",
      "GK Chevrolet of Downers Grove (Commercial, 1977)\n",
      "https://www.youtube.com/watch?v=GkUJjVuzfbQ&list=PLh5DDeppeM8u9jv5_bU89zRzxP_lY5dUm&index=64&pp=iAQB\n",
      "WFLD Channel 32 - Comedy Classics - \"Stooge At The Switcher?\" (1981)\n",
      "https://www.youtube.com/watch?v=kdQlNAzw-wI&list=PLh5DDeppeM8u9jv5_bU89zRzxP_lY5dUm&index=65&pp=iAQB\n",
      "WSNS Channel 44 - Summit Series Game 8 (Technical Difficulties?, 1972)\n",
      "https://www.youtube.com/watch?v=2bU_1rcOgaE&list=PLh5DDeppeM8u9jv5_bU89zRzxP_lY5dUm&index=66&pp=iAQB\n",
      "WFBN Channel 66 - The Avengers - \"Technical Funk-Up\" (1985)\n",
      "https://www.youtube.com/watch?v=3w6Ka6eVqvw&list=PLh5DDeppeM8u9jv5_bU89zRzxP_lY5dUm&index=67&pp=iAQB\n",
      "WVTV Channel 18 - \"One Moment Please\" (Technical Difficulties Moment, 1980)\n",
      "https://www.youtube.com/watch?v=95oP7KffBf4&list=PLh5DDeppeM8u9jv5_bU89zRzxP_lY5dUm&index=68&pp=iAQB\n",
      "WLS Channel 7 - The 3:00 Movie - \"Dracula Has Risen from the Grave\" (Technical Difficulties, 1982)\n",
      "https://www.youtube.com/watch?v=aA3o2d6-_bg&list=PLh5DDeppeM8u9jv5_bU89zRzxP_lY5dUm&index=69&pp=iAQB\n",
      "WTTW Channel 11 - Sunday Movie Eleven - \"The Titfield Thunderbolt\" (Opening, 1979)\n",
      "https://www.youtube.com/watch?v=lGjnx2PlQEI&list=PLh5DDeppeM8u9jv5_bU89zRzxP_lY5dUm&index=70&pp=iAQB\n",
      "WUSA Inside Washington Technical Difficulties\n",
      "https://www.youtube.com/watch?v=OqsefvctT5w&list=PLh5DDeppeM8u9jv5_bU89zRzxP_lY5dUm&index=71&pp=iAQB\n",
      "KPRC Houston - Technical Difficulties (May 5, 1986)\n",
      "https://www.youtube.com/watch?v=vdAZLy8uKSg&list=PLh5DDeppeM8u9jv5_bU89zRzxP_lY5dUm&index=72&pp=iAQB\n",
      "WCMH NBC 4 messes up and goes GREEN\n",
      "https://www.youtube.com/watch?v=QbkUC-VPT7Q&list=PLh5DDeppeM8u9jv5_bU89zRzxP_lY5dUm&index=73&pp=iAQB\n",
      "KABC Technical Difficulties 1983\n",
      "https://www.youtube.com/watch?v=pxrfRHuZ0JA&list=PLh5DDeppeM8u9jv5_bU89zRzxP_lY5dUm&index=74&pp=iAQB\n",
      "WYMT Technical Difficulties\n",
      "https://www.youtube.com/watch?v=T2kJf1qPZjE&list=PLh5DDeppeM8u9jv5_bU89zRzxP_lY5dUm&index=75&pp=iAQB\n",
      "\n",
      "\n",
      "# of videos in this page: 75\n"
     ]
    }
   ],
   "source": [
    "# saving the links and names\n",
    "txt={}\n",
    "\n",
    "# print the elements' texts we got via get_attribute\n",
    "numberofvideos=0\n",
    "print(\"texts per text:\\n\\n\")\n",
    "for title in titles:\n",
    "    numberofvideos+=1\n",
    "    # print(\"\\nVideo\",numberofvideos,\":\")\n",
    "    print(title.text)\n",
    "    print(title.get_attribute(\"href\"))  \n",
    "    # print(title)  \n",
    "    txt.update({title.text: title.get_attribute(\"href\")})\n",
    "\n",
    "print(\"\\n\\n# of videos in this page:\",numberofvideos)"
   ]
  },
  {
   "cell_type": "code",
   "execution_count": 48,
   "metadata": {},
   "outputs": [
    {
     "name": "stdout",
     "output_type": "stream",
     "text": [
      "{'Technical difficulties': 'https://www.youtube.com/watch?v=WXAeokcRsgM&list=PLh5DDeppeM8u9jv5_bU89zRzxP_lY5dUm&index=1&pp=iAQB', 'NBC Florence Nightingale bumper & technical problems 1985': 'https://www.youtube.com/watch?v=IUXzYJFx-jo&list=PLh5DDeppeM8u9jv5_bU89zRzxP_lY5dUm&index=2&pp=iAQB', 'NBC Technical Difficulties at the Orange Bowl January 1992': 'https://www.youtube.com/watch?v=SHUk7G3hx6M&list=PLh5DDeppeM8u9jv5_bU89zRzxP_lY5dUm&index=3&pp=iAQB', 'NBC Technical Difficulties': 'https://www.youtube.com/watch?v=R50fJuSDWWo&list=PLh5DDeppeM8u9jv5_bU89zRzxP_lY5dUm&index=5&pp=iAQB', '2 4 1986 NBC Technical Difficulties Slide and Blooper': 'https://www.youtube.com/watch?v=uGqVhs-zGUE&list=PLh5DDeppeM8u9jv5_bU89zRzxP_lY5dUm&index=6&pp=iAQB', 'Cartoon Network Technical Difficulties (1997)': 'https://www.youtube.com/watch?v=fmkM5ZtwquE&list=PLh5DDeppeM8u9jv5_bU89zRzxP_lY5dUm&index=7&pp=iAQB', 'Nick Replay, Technical Fault': 'https://www.youtube.com/watch?v=KsPUZbP_qhQ&list=PLh5DDeppeM8u9jv5_bU89zRzxP_lY5dUm&index=8&pp=iAQB', 'Nickelodeon UK Sound Technical Fault During iQuit iCarly Premiere': 'https://www.youtube.com/watch?v=EdUQW9iOVA8&list=PLh5DDeppeM8u9jv5_bU89zRzxP_lY5dUm&index=9&pp=iAQB', '1970s WNBC New York technical error': 'https://www.youtube.com/watch?v=UXS0hzFUBTw&list=PLh5DDeppeM8u9jv5_bU89zRzxP_lY5dUm&index=10&pp=iAQB', 'WHEC TV technical difficulties 1978': 'https://www.youtube.com/watch?v=YJIE1tpuVhM&list=PLh5DDeppeM8u9jv5_bU89zRzxP_lY5dUm&index=11&pp=iAQB', '1980 WOKR Rochester commercial break with technical difficulty': 'https://www.youtube.com/watch?v=2YHbLBUQbn0&list=PLh5DDeppeM8u9jv5_bU89zRzxP_lY5dUm&index=12&pp=iAQB', 'WBBM Channel 2 - \"Something For Joey\" (Technical Difficulties, 1978)': 'https://www.youtube.com/watch?v=K89zC7CO8Fo&list=PLh5DDeppeM8u9jv5_bU89zRzxP_lY5dUm&index=13&pp=iAQB', 'CBS News Technical Difficulties February 11, 2016': 'https://www.youtube.com/watch?v=OQksMNgN7u0&list=PLh5DDeppeM8u9jv5_bU89zRzxP_lY5dUm&index=14&pp=iAQB', 'The CW 10 Technical Difficulties': 'https://www.youtube.com/watch?v=BpXy_fRDkas&list=PLh5DDeppeM8u9jv5_bU89zRzxP_lY5dUm&index=16&pp=iAQB', 'NBC Network - \"Elvis Has Left The Building\" - \"Technical Difficulties\" (Part 2, 1977)': 'https://www.youtube.com/watch?v=zWlkBOgWE04&list=PLh5DDeppeM8u9jv5_bU89zRzxP_lY5dUm&index=17&pp=iAQB', 'NBC 1992: \"Network Difficulties\"': 'https://www.youtube.com/watch?v=JZuNm_QWOjk&list=PLh5DDeppeM8u9jv5_bU89zRzxP_lY5dUm&index=18&pp=iAQB', 'WTVW Channel 7 - The ABC Friday Night Movie - \"Arachnoscrewup\" (Technical Difficulties Moment, 1981)': 'https://www.youtube.com/watch?v=kyxrI3zXF9U&list=PLh5DDeppeM8u9jv5_bU89zRzxP_lY5dUm&index=19&pp=iAQB', 'CBS Sunday Intershow 1979 - Technical Difficulties': 'https://www.youtube.com/watch?v=d79TAfO_pn0&list=PLh5DDeppeM8u9jv5_bU89zRzxP_lY5dUm&index=20&pp=iAQB', 'WTBS Technical Difficulties - 1986': 'https://www.youtube.com/watch?v=Guyjesy011o&list=PLh5DDeppeM8u9jv5_bU89zRzxP_lY5dUm&index=21&pp=iAQB', 'Boomerang Technical Difficulties 2011': 'https://www.youtube.com/watch?v=2hod9hQKyUA&list=PLh5DDeppeM8u9jv5_bU89zRzxP_lY5dUm&index=22&pp=iAQB', 'KCTS PBS Seattle experiencing technical difficulties Tue Aug 3 2010': 'https://www.youtube.com/watch?v=I_Ukv7bhyI8&list=PLh5DDeppeM8u9jv5_bU89zRzxP_lY5dUm&index=23&pp=iAQB', 'KING Please Stand by 1977': 'https://www.youtube.com/watch?v=02sEHbgChuo&list=PLh5DDeppeM8u9jv5_bU89zRzxP_lY5dUm&index=24&pp=iAQB', 'KREX - Endless Technical Issues 2': 'https://www.youtube.com/watch?v=YO8inChwAgM&list=PLh5DDeppeM8u9jv5_bU89zRzxP_lY5dUm&index=25&pp=iAQB', 'KTZO Technical Difficulties': 'https://www.youtube.com/watch?v=Mo5uxhqtnnE&list=PLh5DDeppeM8u9jv5_bU89zRzxP_lY5dUm&index=26&pp=iAQB', 'late show technical difficulty': 'https://www.youtube.com/watch?v=IwvmfGNXrow&list=PLh5DDeppeM8u9jv5_bU89zRzxP_lY5dUm&index=27&pp=iAQB', 'TNT/Cartoon Network (UK/Europe) - Handover, early 1998': 'https://www.youtube.com/watch?v=iS1cvp-ScXQ&list=PLh5DDeppeM8u9jv5_bU89zRzxP_lY5dUm&index=28&pp=iAQB', \"USA Network -Tech. Problems - '85\": 'https://www.youtube.com/watch?v=evYKcHrFGEc&list=PLh5DDeppeM8u9jv5_bU89zRzxP_lY5dUm&index=29&pp=iAQB', 'WISH-TV Technical Difficulties Slide (2006)': 'https://www.youtube.com/watch?v=PkhmKkXPBHs&list=PLh5DDeppeM8u9jv5_bU89zRzxP_lY5dUm&index=30&pp=iAQB', 'Technical Difficulties - Telemundo Boston': 'https://www.youtube.com/watch?v=M590SLVLpDc&list=PLh5DDeppeM8u9jv5_bU89zRzxP_lY5dUm&index=31&pp=iAQB', 'Prairie Public Television Technical Difficulties (1987)': 'https://www.youtube.com/watch?v=ltBp9ez7q3s&list=PLh5DDeppeM8u9jv5_bU89zRzxP_lY5dUm&index=32&pp=iAQB', 'KOMO TV 4 Technical Difficulties 1979': 'https://www.youtube.com/watch?v=K8qkHxkvwvU&list=PLh5DDeppeM8u9jv5_bU89zRzxP_lY5dUm&index=33&pp=iAQB', 'wabc-tv happy thanksgiving card Technical Difficulties': 'https://www.youtube.com/watch?v=qKnBrogg46s&list=PLh5DDeppeM8u9jv5_bU89zRzxP_lY5dUm&index=34&pp=iAQB', 'WLS-TV Technical Difficulties': 'https://www.youtube.com/watch?v=TZQAz_6qMsc&list=PLh5DDeppeM8u9jv5_bU89zRzxP_lY5dUm&index=35&pp=iAQB', 'WXNE-TV 25 Boston - Technical Difficulties - 1986': 'https://www.youtube.com/watch?v=gddAge8aD0A&list=PLh5DDeppeM8u9jv5_bU89zRzxP_lY5dUm&index=36&pp=iAQB', 'WKBD-TV Channel 50 Promos and telops': 'https://www.youtube.com/watch?v=aks17QcqVg4&list=PLh5DDeppeM8u9jv5_bU89zRzxP_lY5dUm&index=37&pp=iAQB', 'Fox Sports Technical Difficulties World Series 2015': 'https://www.youtube.com/watch?v=6QWvsF8tYNI&list=PLh5DDeppeM8u9jv5_bU89zRzxP_lY5dUm&index=38&pp=iAQB', 'TV Land Technical Difficulties': 'https://www.youtube.com/watch?v=hzJ-DMpCUts&list=PLh5DDeppeM8u9jv5_bU89zRzxP_lY5dUm&index=39&pp=iAQB', 'KRDT-CD T.V. Channel 23-1 Technical Difficulties': 'https://www.youtube.com/watch?v=42OWYtPWG1c&list=PLh5DDeppeM8u9jv5_bU89zRzxP_lY5dUm&index=40&pp=iAQB', 'WFLD Channel 32 - Star Trek Triad - \"TREKnical Difficulties\" (1984) 🖖': 'https://www.youtube.com/watch?v=W8nB4xu9xkY&list=PLh5DDeppeM8u9jv5_bU89zRzxP_lY5dUm&index=41&pp=iAQB', 'KTCA Technical Difficulties card': 'https://www.youtube.com/watch?v=cyE2EdT4Rhk&list=PLh5DDeppeM8u9jv5_bU89zRzxP_lY5dUm&index=42&pp=iAQB', 'WEDU Technical Difficulties Slide (4/21/12)': 'https://www.youtube.com/watch?v=F5v4JutP6tc&list=PLh5DDeppeM8u9jv5_bU89zRzxP_lY5dUm&index=43&pp=iAQB', 'WGR Buffalo 2 Technical Difficulties 1982': 'https://www.youtube.com/watch?v=l3a1RdgB9U0&list=PLh5DDeppeM8u9jv5_bU89zRzxP_lY5dUm&index=44&pp=iAQB', 'WEDU-TV Technial Difficulties': 'https://www.youtube.com/watch?v=1DYw-2o64bU&list=PLh5DDeppeM8u9jv5_bU89zRzxP_lY5dUm&index=45&pp=iAQB', 'Pioneer Public TV Technical Difficulties - August 12th, 2010': 'https://www.youtube.com/watch?v=2UcK8pKmofQ&list=PLh5DDeppeM8u9jv5_bU89zRzxP_lY5dUm&index=46&pp=iAQB', 'WCSH 6 Alive! - Dead Air / Technical Difficulties circa 1991?': 'https://www.youtube.com/watch?v=G57n5wxyeXA&list=PLh5DDeppeM8u9jv5_bU89zRzxP_lY5dUm&index=47&pp=iAQB', \"WLS Channel 7 - It's Not Easy Bein' Me (Technical Difficulties Moment & Ending, 1982)\": 'https://www.youtube.com/watch?v=uODkJ4LZysQ&list=PLh5DDeppeM8u9jv5_bU89zRzxP_lY5dUm&index=48&pp=iAQB', 'WNED 17 Technical Difficulties 1988': 'https://www.youtube.com/watch?v=2vEbzaHWV2Q&list=PLh5DDeppeM8u9jv5_bU89zRzxP_lY5dUm&index=49&pp=iAQB', 'WNEV-7 Boston - Technical Difficulties': 'https://www.youtube.com/watch?v=-kfOkZo_Hdg&list=PLh5DDeppeM8u9jv5_bU89zRzxP_lY5dUm&index=50&pp=iAQB', 'KCVU Fox 20 Technical Difficulties': 'https://www.youtube.com/watch?v=5jpK2avQKds&list=PLh5DDeppeM8u9jv5_bU89zRzxP_lY5dUm&index=51&pp=iAQB', 'WFLD Channel 32 - The Jack Benny Program - \"Technical Difficulties Moment\" (1975)': 'https://www.youtube.com/watch?v=JqVjiQvUwqk&list=PLh5DDeppeM8u9jv5_bU89zRzxP_lY5dUm&index=52&pp=iAQB', \"MTV's First Broadcast Technical Difficulties\": 'https://www.youtube.com/watch?v=hRSMmYbbr6A&list=PLh5DDeppeM8u9jv5_bU89zRzxP_lY5dUm&index=53&pp=iAQB', 'WSVN Join in Progress': 'https://www.youtube.com/watch?v=eepRXo_roXY&list=PLh5DDeppeM8u9jv5_bU89zRzxP_lY5dUm&index=54&pp=iAQB', 'WBZ Technical Difficulties Graphic': 'https://www.youtube.com/watch?v=d5eRwEuqRYU&list=PLh5DDeppeM8u9jv5_bU89zRzxP_lY5dUm&index=55&pp=iAQB', 'WBBM Channel 2 - The Late Show - \"Technical Difficulties\" (Bumper, 1984)': 'https://www.youtube.com/watch?v=_oXm41OLzuo&list=PLh5DDeppeM8u9jv5_bU89zRzxP_lY5dUm&index=56&pp=iAQB', 'WFLD Channel 32 - The Monkees - \"Film Reel Flutter\" (Technical Difficulties, 1984)': 'https://www.youtube.com/watch?v=RHl5mnBWv8w&list=PLh5DDeppeM8u9jv5_bU89zRzxP_lY5dUm&index=57&pp=iAQB', 'WGN Channel 9 - The Hollywood Squares - \"Technical Difficulties Moment\" (Promo, 1980)': 'https://www.youtube.com/watch?v=8QTvgSmn7Ak&list=PLh5DDeppeM8u9jv5_bU89zRzxP_lY5dUm&index=58&pp=iAQB', 'WFLD Channel 32 - Comedy Classics - \"Not Half Bad\" (Technical Difficulties Moment, 1986)': 'https://www.youtube.com/watch?v=0RcLTmXugV8&list=PLh5DDeppeM8u9jv5_bU89zRzxP_lY5dUm&index=59&pp=iAQB', 'WTTW Channel 11 - Doctor Who - \"The Leisure Hive\" (Opening & Technical Difficulties Moment, 1983)': 'https://www.youtube.com/watch?v=dEjNygxCJqE&list=PLh5DDeppeM8u9jv5_bU89zRzxP_lY5dUm&index=60&pp=iAQB', 'WGN Channel 9 - WGN Thursday Night Movie - \"Capone\" (Technical Difficulty Moment, 1983)': 'https://www.youtube.com/watch?v=EOl2EKOuSss&list=PLh5DDeppeM8u9jv5_bU89zRzxP_lY5dUm&index=61&pp=iAQB', 'WFLD Channel 32 - Six O\\'Clock Movie - \"The FBI Story\" (Technical Difficulties, 1981)': 'https://www.youtube.com/watch?v=PIzzOcxb4Bo&list=PLh5DDeppeM8u9jv5_bU89zRzxP_lY5dUm&index=62&pp=iAQB', 'The 45th Annual Golden Globe Awards - “Satellite Trainwreck\" (Complete Broadcast, 1/23/1988) 📺': 'https://www.youtube.com/watch?v=3ywooUVF9fM&list=PLh5DDeppeM8u9jv5_bU89zRzxP_lY5dUm&index=63&pp=iAQB', 'GK Chevrolet of Downers Grove (Commercial, 1977)': 'https://www.youtube.com/watch?v=GkUJjVuzfbQ&list=PLh5DDeppeM8u9jv5_bU89zRzxP_lY5dUm&index=64&pp=iAQB', 'WFLD Channel 32 - Comedy Classics - \"Stooge At The Switcher?\" (1981)': 'https://www.youtube.com/watch?v=kdQlNAzw-wI&list=PLh5DDeppeM8u9jv5_bU89zRzxP_lY5dUm&index=65&pp=iAQB', 'WSNS Channel 44 - Summit Series Game 8 (Technical Difficulties?, 1972)': 'https://www.youtube.com/watch?v=2bU_1rcOgaE&list=PLh5DDeppeM8u9jv5_bU89zRzxP_lY5dUm&index=66&pp=iAQB', 'WFBN Channel 66 - The Avengers - \"Technical Funk-Up\" (1985)': 'https://www.youtube.com/watch?v=3w6Ka6eVqvw&list=PLh5DDeppeM8u9jv5_bU89zRzxP_lY5dUm&index=67&pp=iAQB', 'WVTV Channel 18 - \"One Moment Please\" (Technical Difficulties Moment, 1980)': 'https://www.youtube.com/watch?v=95oP7KffBf4&list=PLh5DDeppeM8u9jv5_bU89zRzxP_lY5dUm&index=68&pp=iAQB', 'WLS Channel 7 - The 3:00 Movie - \"Dracula Has Risen from the Grave\" (Technical Difficulties, 1982)': 'https://www.youtube.com/watch?v=aA3o2d6-_bg&list=PLh5DDeppeM8u9jv5_bU89zRzxP_lY5dUm&index=69&pp=iAQB', 'WTTW Channel 11 - Sunday Movie Eleven - \"The Titfield Thunderbolt\" (Opening, 1979)': 'https://www.youtube.com/watch?v=lGjnx2PlQEI&list=PLh5DDeppeM8u9jv5_bU89zRzxP_lY5dUm&index=70&pp=iAQB', 'WUSA Inside Washington Technical Difficulties': 'https://www.youtube.com/watch?v=OqsefvctT5w&list=PLh5DDeppeM8u9jv5_bU89zRzxP_lY5dUm&index=71&pp=iAQB', 'KPRC Houston - Technical Difficulties (May 5, 1986)': 'https://www.youtube.com/watch?v=vdAZLy8uKSg&list=PLh5DDeppeM8u9jv5_bU89zRzxP_lY5dUm&index=72&pp=iAQB', 'WCMH NBC 4 messes up and goes GREEN': 'https://www.youtube.com/watch?v=QbkUC-VPT7Q&list=PLh5DDeppeM8u9jv5_bU89zRzxP_lY5dUm&index=73&pp=iAQB', 'KABC Technical Difficulties 1983': 'https://www.youtube.com/watch?v=pxrfRHuZ0JA&list=PLh5DDeppeM8u9jv5_bU89zRzxP_lY5dUm&index=74&pp=iAQB', 'WYMT Technical Difficulties': 'https://www.youtube.com/watch?v=T2kJf1qPZjE&list=PLh5DDeppeM8u9jv5_bU89zRzxP_lY5dUm&index=75&pp=iAQB'}\n",
      "txt completed\n"
     ]
    }
   ],
   "source": [
    "print(txt)\n",
    "txt\n",
    "# playlist_file=open('%s.txt' % playlist_name, \"w\", encoding='utf-8')\n",
    "\n",
    "# playlist_file=open('playlist_name.txt', \"w+\")\n",
    "# for i in txt:\n",
    "#     playlist_file.write(i)\n",
    "# playlist_file.close()\n",
    "\n",
    "\n",
    "with open('%s.txt' % playlist_name, \"w\", encoding='utf-8') as file:\n",
    "    # Iterate through the dictionary and write each key-value pair\n",
    "    for key, value in txt.items():\n",
    "        file.write(f'{key}: {value}\\n') \n",
    "\n",
    "print(\"txt completed\")        \n",
    "\n",
    "driver.quit()"
   ]
  }
 ],
 "metadata": {
  "kernelspec": {
   "display_name": "Python 3",
   "language": "python",
   "name": "python3"
  },
  "language_info": {
   "codemirror_mode": {
    "name": "ipython",
    "version": 3
   },
   "file_extension": ".py",
   "mimetype": "text/x-python",
   "name": "python",
   "nbconvert_exporter": "python",
   "pygments_lexer": "ipython3",
   "version": "3.12.0"
  }
 },
 "nbformat": 4,
 "nbformat_minor": 2
}
